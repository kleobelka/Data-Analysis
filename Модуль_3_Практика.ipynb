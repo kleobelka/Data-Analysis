{
  "nbformat": 4,
  "nbformat_minor": 0,
  "metadata": {
    "colab": {
      "provenance": [],
      "authorship_tag": "ABX9TyNIHcQq7ug2TBTabeEDBBeQ",
      "include_colab_link": true
    },
    "kernelspec": {
      "name": "python3",
      "display_name": "Python 3"
    },
    "language_info": {
      "name": "python"
    }
  },
  "cells": [
    {
      "cell_type": "markdown",
      "metadata": {
        "id": "view-in-github",
        "colab_type": "text"
      },
      "source": [
        "<a href=\"https://colab.research.google.com/github/kleobelka/Data-Analysis/blob/main/%D0%9C%D0%BE%D0%B4%D1%83%D0%BB%D1%8C_3_%D0%9F%D1%80%D0%B0%D0%BA%D1%82%D0%B8%D0%BA%D0%B0.ipynb\" target=\"_parent\"><img src=\"https://colab.research.google.com/assets/colab-badge.svg\" alt=\"Open In Colab\"/></a>"
      ]
    },
    {
      "cell_type": "markdown",
      "source": [
        "Это мое первое текстовое поле"
      ],
      "metadata": {
        "id": "6CAJqFYMw_gk"
      }
    },
    {
      "cell_type": "code",
      "source": [
        "print(\"Это мое первое кодовое поле\")"
      ],
      "metadata": {
        "colab": {
          "base_uri": "https://localhost:8080/"
        },
        "id": "GiE1-mxTxHZ5",
        "outputId": "fcbb2cfc-c3fb-47b6-d3d6-fe8c616aeaa2"
      },
      "execution_count": null,
      "outputs": [
        {
          "output_type": "stream",
          "name": "stdout",
          "text": [
            "Это мое первое кодовое поле\n"
          ]
        }
      ]
    },
    {
      "cell_type": "code",
      "execution_count": null,
      "metadata": {
        "id": "aSwIHcKXwy-H"
      },
      "outputs": [],
      "source": []
    }
  ]
}